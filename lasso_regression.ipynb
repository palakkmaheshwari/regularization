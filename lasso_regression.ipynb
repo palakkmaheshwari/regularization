{
 "cells": [
  {
   "cell_type": "markdown",
   "id": "901ab9f8",
   "metadata": {},
   "source": [
    "### LASSO L1 (Least Absolute Shrinkage and Selection Operator)"
   ]
  },
  {
   "cell_type": "code",
   "execution_count": 1,
   "id": "e7694f16",
   "metadata": {},
   "outputs": [],
   "source": [
    "# Import Libraries\n",
    "\n",
    "import pandas as pd\n",
    "import numpy as np\n",
    "import matplotlib.pyplot as plt\n",
    "import matplotlib.image as img\n",
    "\n",
    "from sklearn.linear_model import Ridge"
   ]
  },
  {
   "cell_type": "markdown",
   "id": "9c5fa20e",
   "metadata": {},
   "source": [
    "### Lasso from scratch using Gradient Descent"
   ]
  },
  {
   "cell_type": "code",
   "execution_count": 8,
   "id": "056edb68-e3f4-4890-af7d-26866b8193e7",
   "metadata": {},
   "outputs": [
    {
     "name": "stdout",
     "output_type": "stream",
     "text": [
      "Epoch 0: Loss = 5.4092\n",
      "Epoch 100: Loss = 2.7753\n",
      "Epoch 200: Loss = 2.7753\n",
      "Epoch 300: Loss = 2.7753\n",
      "Epoch 400: Loss = 2.7753\n",
      "Epoch 500: Loss = 2.7753\n",
      "Epoch 600: Loss = 2.7753\n",
      "Epoch 700: Loss = 2.7753\n",
      "Epoch 800: Loss = 2.7753\n",
      "Epoch 900: Loss = 2.7753\n",
      "Optimal theta: [[2.51531569]\n",
      " [1.34144528]]\n"
     ]
    }
   ],
   "source": [
    "import numpy as np\n",
    "\n",
    "class LassoRegressionGradientDescent:\n",
    "    def __init__(self, alpha=0.01, lambda_=1.0, epochs=1000):\n",
    "        \"\"\"\n",
    "        Initialize hyperparameters for Lasso Regression.\n",
    "\n",
    "        Parameters:\n",
    "        alpha (float): Learning rate.\n",
    "        lambda_ (float): L1 regularization strength.\n",
    "        epochs (int): Number of training iterations.\n",
    "        \"\"\"\n",
    "        self.alpha = alpha\n",
    "        self.lambda_ = lambda_\n",
    "        self.epochs = epochs\n",
    "        self.theta = None\n",
    "\n",
    "    def fit(self, X, y):\n",
    "        \"\"\"\n",
    "        Fit the Lasso Regression model using gradient descent.\n",
    "\n",
    "        Parameters:\n",
    "        X (np.ndarray): Feature matrix (m x n)\n",
    "        y (np.ndarray): Target vector (m x 1)\n",
    "        \"\"\"\n",
    "        m, n = X.shape\n",
    "        self.theta = np.zeros((n, 1))  # Initialize weights to zeros\n",
    "\n",
    "        for epoch in range(self.epochs):\n",
    "            # Compute gradient with L1 regularization\n",
    "            gradient = (-1/m) * X.T @ (y - X @ self.theta) + self.lambda_ * np.sign(self.theta)\n",
    "\n",
    "            # Update weights\n",
    "            self.theta -= self.alpha * gradient\n",
    "\n",
    "            # Print loss every 100 epochs\n",
    "            if epoch % 100 == 0:\n",
    "                loss = (1/(2*m)) * np.sum((y - X @ self.theta)**2) + self.lambda_ * np.sum(np.abs(self.theta))\n",
    "                print(f\"Epoch {epoch}: Loss = {loss:.4f}\")\n",
    "\n",
    "    def predict(self, X):\n",
    "        \"\"\"\n",
    "        Make predictions using the trained model.\n",
    "\n",
    "        Parameters:\n",
    "        X (np.ndarray): Feature matrix (m x n)\n",
    "\n",
    "        Returns:\n",
    "        np.ndarray: Predicted values (m x 1)\n",
    "        \"\"\"\n",
    "        return X @ self.theta\n",
    "\n",
    "    def get_weights(self):\n",
    "        \"\"\"\n",
    "        Get the learned weight vector (theta).\n",
    "        \n",
    "        Returns:\n",
    "        np.ndarray: Weight vector\n",
    "        \"\"\"\n",
    "        return self.theta\n",
    "\n",
    "\n",
    "# Example usage:\n",
    "np.random.seed(42)\n",
    "X = np.random.randn(100, 2)  # 100 samples, 2 features\n",
    "y = 3 * X[:, 0:1] + 2 * X[:, 1:2] + np.random.randn(100, 1)  # Generating target with noise\n",
    "\n",
    "# Run Lasso Regression with Gradient Descent\n",
    "theta_optimal = LassoRegressionGradientDescent(alpha=0.1, lambda_=0.5, epochs=1000)\n",
    "theta_optimal.fit(X, y)\n",
    "print(\"Optimal theta:\", theta_optimal.get_weights())"
   ]
  },
  {
   "attachments": {},
   "cell_type": "markdown",
   "id": "901c6007-ba53-457f-a1c8-db197dd91afa",
   "metadata": {},
   "source": [
    "* `@ is np.dot` <br>\n",
    "* `np.sign returns -1 if x < 0, 0 if x==0, 1 if x > 0 . nan is returned for nan inputs.` <br>\n",
    "* `theta are weights` <br>\n",
    "\n",
    "**np.sign(theta)** : <br> `We are using it to calculate subgradient. A subgradient is a generalization of gradient that allows us to compute derivatives for a functions that are not differentiable at some points.`"
   ]
  },
  {
   "cell_type": "code",
   "execution_count": 7,
   "id": "b852bc7c-5fdd-458e-a706-dc2aa60e047f",
   "metadata": {},
   "outputs": [
    {
     "name": "stdout",
     "output_type": "stream",
     "text": [
      "Epoch 1: Theta = [3.43666667 1.08       0.90166667]\n",
      "Epoch 2: Theta = [2.77899444 0.98863333 0.86035278]\n",
      "Epoch 3: Theta = [2.95980538 0.94421739 0.80376206]\n",
      "Epoch 4: Theta = [2.9133778  0.88758884 0.75148458]\n",
      "Epoch 5: Theta = [2.92850268 0.8347765  0.69821092]\n",
      "Epoch 6: Theta = [2.92692319 0.78143355 0.64537897]\n",
      "Epoch 7: Theta = [2.92984564 0.72873459 0.59259821]\n",
      "Epoch 8: Theta = [2.9315237  0.67635805 0.53997361]\n",
      "Epoch 9: Theta = [2.93351467 0.62438781 0.48747588]\n",
      "Epoch 10: Theta = [2.93539671 0.57279791 0.43511209]\n",
      "Epoch 11: Theta = [2.93728431 0.52159216 0.38287949]\n",
      "Epoch 12: Theta = [2.93914659 0.47076634 0.330778  ]\n",
      "Epoch 13: Theta = [2.94099209 0.42031841 0.27880679]\n",
      "Epoch 14: Theta = [2.94281865 0.37024578 0.22696526]\n",
      "Epoch 15: Theta = [2.94462701 0.32054602 0.17525275]\n",
      "Epoch 16: Theta = [2.94641714 0.27121667 0.12366863]\n",
      "Epoch 17: Theta = [2.9481892 0.2222553 0.       ]\n",
      "Epoch 18: Theta = [2.94825834 0.1736595  0.        ]\n",
      "Epoch 19: Theta = [2.95164161 0.12554483 0.        ]\n",
      "\n",
      "Final theta values after Lasso regression: [2.95164161 0.12554483 0.        ]\n"
     ]
    }
   ],
   "source": [
    "# class with threshold to force small value to zero\n",
    "\n",
    "class LassoRegressionGD:\n",
    "    def __init__(self, alpha=0.1, lambda_=0.5, epochs=10, threshold=0.1):\n",
    "        self.alpha = alpha\n",
    "        self.lambda_ = lambda_\n",
    "        self.epochs = epochs\n",
    "        self.threshold = threshold\n",
    "        self.theta = None\n",
    "\n",
    "    def fit(self, X, y):\n",
    "        m, n = X.shape\n",
    "        self.theta = np.ones(n)  # Initialize weights to 1\n",
    "\n",
    "        for epoch in range(self.epochs):\n",
    "            # Gradient for MSE\n",
    "            gradient = (-1/m) * X.T @ (y - X @ self.theta)\n",
    "\n",
    "            # Add L1 regularization (Lasso)\n",
    "            gradient += self.lambda_ * np.sign(self.theta)\n",
    "\n",
    "            # Update weights\n",
    "            self.theta -= self.alpha * gradient\n",
    "\n",
    "            # Thresholding small weights to zero\n",
    "            self.theta[np.abs(self.theta) < self.threshold] = 0\n",
    "\n",
    "            print(f\"Epoch {epoch + 1}: Theta = {self.theta}\")\n",
    "\n",
    "    def predict(self, X):\n",
    "        return X @ self.theta\n",
    "\n",
    "    def get_weights(self):\n",
    "        return self.theta\n",
    "\n",
    "\n",
    "# Example dataset with 3 features\n",
    "X = np.array([[2, 0.5, 0],\n",
    "              [3, 0.2, 0.1],\n",
    "              [5, 0.1, -0.2]])\n",
    "y = np.array([6, 9, 15])\n",
    "\n",
    "# Run Lasso Regression\n",
    "optimal_theta = LassoRegressionGD(epochs=19)\n",
    "optimal_theta.fit(X,y)\n",
    "\n",
    "print(\"\\nFinal theta values after Lasso regression:\", optimal_theta.get_weights())"
   ]
  }
 ],
 "metadata": {
  "kernelspec": {
   "display_name": "Python 3 (ipykernel)",
   "language": "python",
   "name": "python3"
  },
  "language_info": {
   "codemirror_mode": {
    "name": "ipython",
    "version": 3
   },
   "file_extension": ".py",
   "mimetype": "text/x-python",
   "name": "python",
   "nbconvert_exporter": "python",
   "pygments_lexer": "ipython3",
   "version": "3.12.9"
  },
  "widgets": {
   "application/vnd.jupyter.widget-state+json": {
    "state": {},
    "version_major": 2,
    "version_minor": 0
   }
  }
 },
 "nbformat": 4,
 "nbformat_minor": 5
}
